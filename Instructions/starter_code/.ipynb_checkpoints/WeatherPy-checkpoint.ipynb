{
 "cells": [
  {
   "cell_type": "markdown",
   "metadata": {},
   "source": [
    "# WeatherPy\n",
    "----\n",
    "\n",
    "#### Note\n",
    "* Instructions have been included for each segment. You do not have to follow them exactly, but they are included to help you think through the steps."
   ]
  },
  {
   "cell_type": "code",
   "execution_count": 1,
   "metadata": {
    "scrolled": false
   },
   "outputs": [],
   "source": [
    "#pip install citipy"
   ]
  },
  {
   "cell_type": "code",
   "execution_count": 17,
   "metadata": {
    "scrolled": true
   },
   "outputs": [],
   "source": [
    "# Dependencies and Setup\n",
    "import matplotlib.pyplot as plt\n",
    "import pandas as pd\n",
    "import numpy as np\n",
    "import requests\n",
    "import time\n",
    "from scipy.stats import linregress\n",
    "\n",
    "# Import API key\n",
    "from api_keys import weather_api_key\n",
    "\n",
    "# Incorporated citipy to determine city based on latitude and longitude\n",
    "from citipy import citipy\n",
    "\n",
    "# Output File (CSV)\n",
    "output_data_file = \"output_data/cities.csv\"\n",
    "\n",
    "# Range of latitudes and longitudes\n",
    "lat_range = (-90, 90)\n",
    "lng_range = (-180, 180)"
   ]
  },
  {
   "cell_type": "markdown",
   "metadata": {},
   "source": [
    "## Generate Cities List"
   ]
  },
  {
   "cell_type": "code",
   "execution_count": 18,
   "metadata": {},
   "outputs": [
    {
     "data": {
      "text/plain": [
       "608"
      ]
     },
     "execution_count": 18,
     "metadata": {},
     "output_type": "execute_result"
    }
   ],
   "source": [
    "# List for holding lat_lngs and cities\n",
    "lat_lngs = []\n",
    "cities = []\n",
    "\n",
    "# Create a set of random lat and lng combinations\n",
    "lats = np.random.uniform(low=-90.000, high=90.000, size=1500)\n",
    "lngs = np.random.uniform(low=-180.000, high=180.000, size=1500)\n",
    "lat_lngs = zip(lats, lngs)\n",
    "\n",
    "# Identify nearest city for each lat, lng combination\n",
    "for lat_lng in lat_lngs:\n",
    "    city = citipy.nearest_city(lat_lng[0], lat_lng[1]).city_name\n",
    "    \n",
    "    # If the city is unique, then add it to a our cities list\n",
    "    if city not in cities:\n",
    "        cities.append(city)\n",
    "\n",
    "# Print the city count to confirm sufficient count\n",
    "len(cities)"
   ]
  },
  {
   "cell_type": "markdown",
   "metadata": {},
   "source": [
    "### Perform API Calls\n",
    "* Perform a weather check on each city using a series of successive API calls.\n",
    "* Include a print log of each city as it'sbeing processed (with the city number and city name).\n"
   ]
  },
  {
   "cell_type": "code",
   "execution_count": 20,
   "metadata": {
    "scrolled": true
   },
   "outputs": [],
   "source": [
    "# Save config information\n",
    "url = \"http://api.openweathermap.org/data/2.5/weather?\"\n",
    "units = \"imperial\"\n",
    "\n",
    "# Build query URL\n",
    "queryURL = f\"{url}appid={weather_api_key}&units={units}&q=\"\n",
    "\n",
    "response = requests.get(queryURL + city).json()"
   ]
  },
  {
   "cell_type": "code",
   "execution_count": 76,
   "metadata": {},
   "outputs": [
    {
     "name": "stdout",
     "output_type": "stream",
     "text": [
      "Beginning Data Retrieval\n",
      "--------------------------------\n",
      "city not found. Skipping ...\n",
      "Processing Record 2 of set 1 | Tazovsky\n",
      "city not found. Skipping ...\n",
      "Processing Record 3 of set 1 | Solwezi\n",
      "Processing Record 4 of set 1 | Nome\n",
      "Processing Record 5 of set 1 | Caravelas\n",
      "Processing Record 6 of set 1 | Quelimane\n",
      "Processing Record 7 of set 1 | Paamiut\n",
      "Processing Record 8 of set 1 | Thompson\n",
      "Processing Record 9 of set 1 | Laguna\n",
      "Processing Record 10 of set 1 | Ribeira Grande\n",
      "Processing Record 11 of set 1 | Vostok\n",
      "Processing Record 12 of set 1 | Raja\n",
      "Processing Record 13 of set 1 | Lagoa\n",
      "Processing Record 14 of set 1 | Belaya Gora\n",
      "Processing Record 15 of set 1 | Upernavik\n",
      "Processing Record 16 of set 1 | Ushuaia\n",
      "Processing Record 17 of set 1 | Albany\n",
      "Processing Record 18 of set 1 | Makkah al Mukarramah\n",
      "Processing Record 19 of set 1 | Dingle\n",
      "Processing Record 20 of set 1 | Hermanus\n",
      "Processing Record 21 of set 1 | East London\n",
      "Processing Record 22 of set 1 | Mt. Pleasant\n",
      "Processing Record 23 of set 1 | Chui\n",
      "Processing Record 24 of set 1 | Labuhan\n",
      "Processing Record 25 of set 1 | Miraflores\n",
      "Processing Record 26 of set 1 | Les Cayes\n",
      "Processing Record 27 of set 1 | Carnarvon\n",
      "Processing Record 28 of set 1 | Punta Arenas\n",
      "Processing Record 29 of set 1 | Saint George\n",
      "Processing Record 30 of set 1 | Salta\n",
      "Processing Record 31 of set 1 | Mataura\n",
      "city not found. Skipping ...\n",
      "Processing Record 32 of set 1 | Yellowknife\n",
      "Processing Record 33 of set 1 | Atuona\n",
      "Processing Record 34 of set 1 | Vaini\n",
      "Processing Record 35 of set 1 | Safi\n",
      "Processing Record 36 of set 1 | Cherskiy\n",
      "Processing Record 37 of set 1 | Airai\n",
      "Processing Record 38 of set 1 | Bethel\n",
      "Processing Record 39 of set 1 | Pangody\n",
      "Processing Record 40 of set 1 | Mahébourg\n",
      "Processing Record 41 of set 1 | Kapaa\n",
      "Processing Record 42 of set 1 | Busselton\n",
      "Processing Record 43 of set 1 | Borovsk\n",
      "Processing Record 44 of set 1 | Heihe\n",
      "Processing Record 45 of set 1 | Jamestown\n",
      "Processing Record 46 of set 1 | Yantal'\n",
      "Processing Record 47 of set 1 | Jidong\n",
      "Processing Record 48 of set 1 | Tasiilaq\n",
      "Processing Record 49 of set 1 | Mar del Plata\n",
      "city not found. Skipping ...\n",
      "Processing Record 50 of set 1 | Dotnuva\n",
      "Processing Record 0 of set 2 | Pasni\n",
      "Processing Record 1 of set 2 | Nālūt\n",
      "Processing Record 2 of set 2 | Tsaratanana\n",
      "Processing Record 3 of set 2 | Hofn\n",
      "Processing Record 4 of set 2 | Nikolskoye\n",
      "Processing Record 5 of set 2 | Brownsville\n",
      "Processing Record 6 of set 2 | Palmer\n",
      "Processing Record 7 of set 2 | Tahe\n",
      "Processing Record 8 of set 2 | Bluff\n",
      "Processing Record 9 of set 2 | Atambua\n",
      "Processing Record 10 of set 2 | Rikitea\n",
      "Processing Record 11 of set 2 | Egvekinot\n",
      "Processing Record 12 of set 2 | Port Elizabeth\n",
      "Processing Record 13 of set 2 | Adrar\n",
      "Processing Record 14 of set 2 | Pacific Grove\n",
      "Processing Record 15 of set 2 | Puerto Ayora\n",
      "Processing Record 16 of set 2 | Carnduff\n",
      "Processing Record 17 of set 2 | Mandalgovi\n",
      "Processing Record 18 of set 2 | Onega\n",
      "Processing Record 19 of set 2 | Saint-Philippe\n",
      "Processing Record 20 of set 2 | Cairo\n",
      "Processing Record 21 of set 2 | Taunggyi\n",
      "Processing Record 22 of set 2 | Tuktoyaktuk\n",
      "Processing Record 23 of set 2 | Kruisfontein\n",
      "Processing Record 24 of set 2 | Port Lincoln\n",
      "Processing Record 25 of set 2 | Hilo\n",
      "Processing Record 26 of set 2 | Esim\n",
      "Processing Record 27 of set 2 | Ostrovnoy\n",
      "Processing Record 28 of set 2 | Colac\n",
      "Processing Record 29 of set 2 | General Roca\n",
      "Processing Record 30 of set 2 | Campina Verde\n",
      "Processing Record 31 of set 2 | Hobart\n",
      "Processing Record 32 of set 2 | Cape Town\n",
      "Processing Record 33 of set 2 | Port Alfred\n",
      "Processing Record 34 of set 2 | Mariestad\n",
      "Processing Record 35 of set 2 | Cidreira\n",
      "city not found. Skipping ...\n",
      "Processing Record 36 of set 2 | Havøysund\n",
      "Processing Record 37 of set 2 | Norman Wells\n",
      "Processing Record 38 of set 2 | Coyhaique\n",
      "Processing Record 39 of set 2 | New Norfolk\n",
      "city not found. Skipping ...\n",
      "Processing Record 40 of set 2 | Tuatapere\n",
      "Processing Record 41 of set 2 | Lebu\n",
      "Processing Record 42 of set 2 | Eureka\n",
      "Processing Record 43 of set 2 | São Filipe\n",
      "Processing Record 44 of set 2 | Fairbanks\n",
      "Processing Record 45 of set 2 | Khatanga\n",
      "Processing Record 46 of set 2 | Phonhong\n",
      "Processing Record 47 of set 2 | Torbay\n",
      "Processing Record 48 of set 2 | Clyde River\n",
      "Processing Record 49 of set 2 | Barrow\n",
      "Processing Record 50 of set 2 | Huntsville\n",
      "Processing Record 0 of set 3 | Sittwe\n",
      "Processing Record 1 of set 3 | Butaritari\n",
      "Processing Record 2 of set 3 | Tura\n",
      "Processing Record 3 of set 3 | Camaná\n",
      "Processing Record 4 of set 3 | Qaanaaq\n",
      "city not found. Skipping ...\n",
      "Processing Record 5 of set 3 | Ponta do Sol\n",
      "city not found. Skipping ...\n",
      "Processing Record 6 of set 3 | Sungai Penuh\n",
      "Processing Record 7 of set 3 | Soyo\n",
      "city not found. Skipping ...\n",
      "Processing Record 8 of set 3 | Khomeyn\n",
      "Processing Record 9 of set 3 | George Town\n",
      "Processing Record 10 of set 3 | Ust-Tsilma\n",
      "Processing Record 11 of set 3 | Osakarovka\n",
      "Processing Record 12 of set 3 | Antofagasta\n",
      "Processing Record 13 of set 3 | Vanino\n",
      "Processing Record 14 of set 3 | Puerto Escondido\n",
      "Processing Record 15 of set 3 | Bubaque\n",
      "Processing Record 16 of set 3 | Rudnya\n",
      "Processing Record 17 of set 3 | Esperance\n",
      "Processing Record 18 of set 3 | Diego de Almagro\n",
      "Processing Record 19 of set 3 | Salalah\n",
      "Processing Record 20 of set 3 | Carutapera\n",
      "Processing Record 21 of set 3 | Sitka\n",
      "Processing Record 22 of set 3 | Nemuro\n",
      "Processing Record 23 of set 3 | Makat\n",
      "Processing Record 24 of set 3 | Klaksvík\n",
      "Processing Record 25 of set 3 | Namatanai\n",
      "Processing Record 26 of set 3 | Burns Lake\n",
      "city not found. Skipping ...\n",
      "city not found. Skipping ...\n",
      "Processing Record 27 of set 3 | Nizwá\n",
      "Processing Record 28 of set 3 | Shaygino\n",
      "Processing Record 29 of set 3 | Paphos\n",
      "Processing Record 30 of set 3 | Saqqez\n",
      "Processing Record 31 of set 3 | Udachny\n",
      "Processing Record 32 of set 3 | Vredendal\n",
      "Processing Record 33 of set 3 | Arraial do Cabo\n",
      "city not found. Skipping ...\n",
      "Processing Record 34 of set 3 | Sierra Vista\n",
      "Processing Record 35 of set 3 | Batagay-Alyta\n",
      "Processing Record 36 of set 3 | Bredasdorp\n",
      "Processing Record 37 of set 3 | Nishihara\n",
      "Processing Record 38 of set 3 | Poddor'ye\n",
      "Processing Record 39 of set 3 | Saint Paul Harbor\n",
      "Processing Record 40 of set 3 | Grindavik\n",
      "Processing Record 41 of set 3 | Trofaiach\n",
      "Processing Record 42 of set 3 | Marsaxlokk\n",
      "Processing Record 43 of set 3 | Naze\n",
      "Processing Record 44 of set 3 | Manokwari\n",
      "Processing Record 45 of set 3 | Aksu\n",
      "Processing Record 46 of set 3 | Asău\n",
      "Processing Record 47 of set 3 | Castro\n",
      "Processing Record 48 of set 3 | San Juan\n",
      "Processing Record 49 of set 3 | Vardø\n",
      "Processing Record 50 of set 3 | Takaka\n",
      "Processing Record 0 of set 4 | Pevek\n",
      "Processing Record 1 of set 4 | Yangi Marg`ilon\n",
      "Processing Record 2 of set 4 | Tignère\n",
      "Processing Record 3 of set 4 | Dikson\n",
      "Processing Record 4 of set 4 | Sur\n",
      "Processing Record 5 of set 4 | Departamento de Maldonado\n",
      "Processing Record 6 of set 4 | Talara\n",
      "Processing Record 7 of set 4 | Verkhovazh'ye\n",
      "Processing Record 8 of set 4 | Honjō\n",
      "Processing Record 9 of set 4 | Aberystwyth\n",
      "Processing Record 10 of set 4 | Maniitsoq\n",
      "Processing Record 11 of set 4 | La Asuncion\n",
      "Processing Record 12 of set 4 | Nísia Floresta\n",
      "Processing Record 13 of set 4 | Arman'\n",
      "Processing Record 14 of set 4 | Plaster Rock\n",
      "Processing Record 15 of set 4 | Aykhal\n",
      "Processing Record 16 of set 4 | Shingū\n",
      "Processing Record 17 of set 4 | Gondanglegi\n",
      "Processing Record 18 of set 4 | Grand Gaube\n",
      "Processing Record 19 of set 4 | Avarua\n",
      "Processing Record 20 of set 4 | Lábrea\n",
      "Processing Record 21 of set 4 | Pontianak\n",
      "Processing Record 22 of set 4 | The Valley\n",
      "Processing Record 23 of set 4 | Bhisho\n",
      "Processing Record 24 of set 4 | Olinda\n",
      "Processing Record 25 of set 4 | Yulara\n",
      "Processing Record 26 of set 4 | San Patricio\n",
      "city not found. Skipping ...\n",
      "Processing Record 27 of set 4 | Ponta Delgada\n",
      "Processing Record 28 of set 4 | Chokurdakh\n",
      "Processing Record 29 of set 4 | Hithadhoo\n",
      "Processing Record 30 of set 4 | Severo-Kuril'sk\n",
      "Processing Record 31 of set 4 | Teya\n",
      "Processing Record 32 of set 4 | Zhumadian\n",
      "Processing Record 33 of set 4 | Vallenar\n",
      "Processing Record 34 of set 4 | Carballo\n",
      "Processing Record 35 of set 4 | Vanimo\n",
      "Processing Record 36 of set 4 | Mīnāb\n",
      "Processing Record 37 of set 4 | Los Llanos de Aridane\n"
     ]
    },
    {
     "name": "stdout",
     "output_type": "stream",
     "text": [
      "Processing Record 38 of set 4 | Tiksi\n",
      "Processing Record 39 of set 4 | Alyangula\n",
      "Processing Record 40 of set 4 | Eyl\n",
      "Processing Record 41 of set 4 | Fortuna\n",
      "Processing Record 42 of set 4 | Sarkand\n",
      "city not found. Skipping ...\n",
      "Processing Record 43 of set 4 | Tabatinga\n",
      "Processing Record 44 of set 4 | Atar\n",
      "city not found. Skipping ...\n",
      "Processing Record 45 of set 4 | Kumul\n",
      "Processing Record 46 of set 4 | Hohhot\n",
      "city not found. Skipping ...\n",
      "Processing Record 47 of set 4 | Ketchikan\n",
      "Processing Record 48 of set 4 | Malazgirt\n",
      "Processing Record 49 of set 4 | Christiana\n",
      "Processing Record 50 of set 4 | Evensk\n",
      "Processing Record 0 of set 5 | Pangkalanbuun\n",
      "Processing Record 1 of set 5 | Dwārka\n",
      "Processing Record 2 of set 5 | Leshukonskoye\n",
      "Processing Record 3 of set 5 | Kálmánháza\n",
      "Processing Record 4 of set 5 | Vao\n",
      "Processing Record 5 of set 5 | Miramar\n",
      "Processing Record 6 of set 5 | Sørland\n",
      "Processing Record 7 of set 5 | Châteauroux\n",
      "Processing Record 8 of set 5 | Montluçon\n",
      "Processing Record 9 of set 5 | Cabo San Lucas\n",
      "Processing Record 10 of set 5 | Muhos\n",
      "Processing Record 11 of set 5 | Dicabisagan\n",
      "Processing Record 12 of set 5 | Muzhi\n",
      "city not found. Skipping ...\n",
      "Processing Record 13 of set 5 | Kanhangad\n",
      "Processing Record 14 of set 5 | Kununurra\n",
      "Processing Record 15 of set 5 | Sīrjān\n",
      "Processing Record 16 of set 5 | San Jerónimo\n",
      "Processing Record 17 of set 5 | Blackwater\n",
      "Processing Record 18 of set 5 | Ivankiv\n",
      "Processing Record 19 of set 5 | Usogorsk\n",
      "Processing Record 20 of set 5 | Menongue\n",
      "Processing Record 21 of set 5 | Deputatsky\n",
      "Processing Record 22 of set 5 | Mount Isa\n",
      "Processing Record 23 of set 5 | Marsh Harbour\n",
      "Processing Record 24 of set 5 | Hūn\n",
      "Processing Record 25 of set 5 | Mataram\n",
      "Processing Record 26 of set 5 | Gigmoto\n",
      "Processing Record 27 of set 5 | Nuevo Progreso\n",
      "city not found. Skipping ...\n",
      "Processing Record 28 of set 5 | Bathsheba\n",
      "Processing Record 29 of set 5 | Longyearbyen\n",
      "Processing Record 30 of set 5 | Great Falls\n",
      "Processing Record 31 of set 5 | Vila Velha\n",
      "Processing Record 32 of set 5 | Hurghada\n",
      "Processing Record 33 of set 5 | Tondano\n",
      "Processing Record 34 of set 5 | Metro\n",
      "Processing Record 35 of set 5 | Leningradskiy\n",
      "city not found. Skipping ...\n",
      "Processing Record 36 of set 5 | Nyangao\n",
      "Processing Record 37 of set 5 | Marabu\n",
      "Processing Record 38 of set 5 | Faisalabad\n",
      "Processing Record 39 of set 5 | Pisco\n",
      "Processing Record 40 of set 5 | Novikovo\n",
      "Processing Record 41 of set 5 | Prince Rupert\n",
      "city not found. Skipping ...\n",
      "Processing Record 42 of set 5 | Bonthe\n",
      "Processing Record 43 of set 5 | Ugoofaaru\n",
      "city not found. Skipping ...\n",
      "Processing Record 44 of set 5 | Port Hardy\n",
      "Processing Record 45 of set 5 | Broken Hill\n",
      "Processing Record 46 of set 5 | Deniliquin\n",
      "Processing Record 47 of set 5 | Saskylakh\n",
      "city not found. Skipping ...\n",
      "Processing Record 48 of set 5 | Bilibino\n",
      "Processing Record 49 of set 5 | Venâncio Aires\n",
      "Processing Record 50 of set 5 | Constantine\n",
      "Processing Record 0 of set 6 | Guerrero Negro\n",
      "Processing Record 1 of set 6 | Cañar\n",
      "Processing Record 2 of set 6 | College\n",
      "city not found. Skipping ...\n",
      "Processing Record 3 of set 6 | Mount Gambier\n",
      "Processing Record 4 of set 6 | Beringovskiy\n",
      "Processing Record 5 of set 6 | Oranjemund\n",
      "Processing Record 6 of set 6 | Kahului\n",
      "Processing Record 7 of set 6 | Sola\n",
      "city not found. Skipping ...\n",
      "Processing Record 8 of set 6 | São Lourenço do Sul\n",
      "Processing Record 9 of set 6 | Narsaq\n",
      "Processing Record 10 of set 6 | Thinadhoo\n",
      "Processing Record 11 of set 6 | Nanortalik\n",
      "city not found. Skipping ...\n",
      "Processing Record 12 of set 6 | Odlābāri\n",
      "Processing Record 13 of set 6 | Ramon\n",
      "Processing Record 14 of set 6 | Liverpool\n",
      "Processing Record 15 of set 6 | Guangming\n",
      "Processing Record 16 of set 6 | Broome\n",
      "Processing Record 17 of set 6 | Geraldton\n",
      "Processing Record 18 of set 6 | ‘Ewa Beach\n",
      "Processing Record 19 of set 6 | San Cristobal\n",
      "Processing Record 20 of set 6 | Lashio\n",
      "Processing Record 21 of set 6 | Qui Nhon\n",
      "Processing Record 22 of set 6 | Kendari\n",
      "Processing Record 23 of set 6 | Souillac\n",
      "city not found. Skipping ...\n",
      "Processing Record 24 of set 6 | Muros\n",
      "city not found. Skipping ...\n",
      "Processing Record 25 of set 6 | Otradnoye\n",
      "Processing Record 26 of set 6 | Horta\n",
      "Processing Record 27 of set 6 | Hirara\n",
      "Processing Record 28 of set 6 | Islamkot\n",
      "Processing Record 29 of set 6 | San Policarpo\n",
      "Processing Record 30 of set 6 | Half Moon Bay\n",
      "Processing Record 31 of set 6 | Houma\n",
      "Processing Record 32 of set 6 | Kavieng\n",
      "Processing Record 33 of set 6 | El Tigre\n",
      "Processing Record 34 of set 6 | Cockburn Town\n",
      "city not found. Skipping ...\n",
      "Processing Record 35 of set 6 | Bahía Honda\n",
      "Processing Record 36 of set 6 | Rach Gia\n",
      "Processing Record 37 of set 6 | Nailsea\n",
      "Processing Record 38 of set 6 | Darhan\n",
      "city not found. Skipping ...\n",
      "Processing Record 39 of set 6 | La Ronge\n",
      "Processing Record 40 of set 6 | Waitati\n",
      "Processing Record 41 of set 6 | Yining\n",
      "city not found. Skipping ...\n",
      "Processing Record 42 of set 6 | Roebourne\n",
      "Processing Record 43 of set 6 | Gayny\n",
      "Processing Record 44 of set 6 | Genoa\n",
      "Processing Record 45 of set 6 | Bengkulu\n",
      "Processing Record 46 of set 6 | Eldorado\n",
      "Processing Record 47 of set 6 | Troitskoye\n",
      "Processing Record 48 of set 6 | Halifax\n",
      "Processing Record 49 of set 6 | Launceston\n",
      "Processing Record 50 of set 6 | Nago\n",
      "Processing Record 0 of set 7 | Ayagoz\n",
      "Processing Record 1 of set 7 | Amapá\n",
      "Processing Record 2 of set 7 | Weihai\n",
      "Processing Record 3 of set 7 | Nadym\n",
      "Processing Record 4 of set 7 | Kirakira\n",
      "Processing Record 5 of set 7 | Pochutla\n",
      "Processing Record 6 of set 7 | Berezovyy\n",
      "Processing Record 7 of set 7 | Bintulu\n",
      "Processing Record 8 of set 7 | Oriximiná\n",
      "Processing Record 9 of set 7 | Ramsar\n",
      "Processing Record 10 of set 7 | Swan Hill\n",
      "Processing Record 11 of set 7 | Pedro II\n",
      "Processing Record 12 of set 7 | Vågåmo\n",
      "Processing Record 13 of set 7 | São José da Coroa Grande\n",
      "Processing Record 14 of set 7 | Ixtapa\n",
      "Processing Record 15 of set 7 | Susanville\n",
      "Processing Record 16 of set 7 | Yerbogachën\n",
      "Processing Record 17 of set 7 | Provideniya\n",
      "Processing Record 18 of set 7 | Saint-François\n",
      "Processing Record 19 of set 7 | Bonavista\n",
      "Processing Record 20 of set 7 | Shunyi\n",
      "Processing Record 21 of set 7 | Talnakh\n",
      "Processing Record 22 of set 7 | Pangnirtung\n",
      "Processing Record 23 of set 7 | Sibolga\n",
      "Processing Record 24 of set 7 | Xining\n",
      "Processing Record 25 of set 7 | Tukan\n",
      "Processing Record 26 of set 7 | Constitución\n",
      "Processing Record 27 of set 7 | Rawson\n",
      "Processing Record 28 of set 7 | Aljezur\n",
      "Processing Record 29 of set 7 | Plover\n",
      "Processing Record 30 of set 7 | Sioux Lookout\n",
      "Processing Record 31 of set 7 | Mana\n",
      "Processing Record 32 of set 7 | Ancud\n",
      "Processing Record 33 of set 7 | Sabha\n",
      "Processing Record 34 of set 7 | Havre-St-Pierre\n",
      "city not found. Skipping ...\n",
      "Processing Record 35 of set 7 | Isla Mujeres\n",
      "Processing Record 36 of set 7 | Clearlake\n",
      "city not found. Skipping ...\n",
      "Processing Record 37 of set 7 | Krasnogvardeyets\n",
      "Processing Record 38 of set 7 | Kanniyākumāri\n",
      "Processing Record 39 of set 7 | San Andrés\n",
      "Processing Record 40 of set 7 | Praia\n",
      "Processing Record 41 of set 7 | Ipanema\n",
      "Processing Record 42 of set 7 | Trelleborg\n",
      "Processing Record 43 of set 7 | Ambulu\n",
      "city not found. Skipping ...\n",
      "Processing Record 44 of set 7 | Orange Cove\n",
      "Processing Record 45 of set 7 | Beidao\n",
      "Processing Record 46 of set 7 | Buala\n",
      "Processing Record 47 of set 7 | Pokaran\n",
      "Processing Record 48 of set 7 | Schela\n",
      "Processing Record 49 of set 7 | Shanghai\n",
      "Processing Record 50 of set 7 | Auki\n",
      "Processing Record 0 of set 8 | High Level\n",
      "Processing Record 1 of set 8 | Walvis Bay\n",
      "Processing Record 2 of set 8 | Province of Mantua\n",
      "Processing Record 3 of set 8 | Dungarvan\n",
      "Processing Record 4 of set 8 | Batemans Bay\n",
      "Processing Record 5 of set 8 | Zhezkazgan\n",
      "Processing Record 6 of set 8 | Birnin Kebbi\n",
      "Processing Record 7 of set 8 | Sobolevo\n",
      "Processing Record 8 of set 8 | Dunedin\n",
      "Processing Record 9 of set 8 | Troitskaya\n",
      "Processing Record 10 of set 8 | Dillon\n",
      "Processing Record 11 of set 8 | Chirongui\n",
      "Processing Record 12 of set 8 | Hong Kong\n",
      "Processing Record 13 of set 8 | Abu Kamal\n",
      "city not found. Skipping ...\n",
      "Processing Record 14 of set 8 | Calvinia\n",
      "Processing Record 15 of set 8 | Iqaluit\n",
      "Processing Record 16 of set 8 | Macapá\n",
      "Processing Record 17 of set 8 | San Felipe\n"
     ]
    },
    {
     "name": "stdout",
     "output_type": "stream",
     "text": [
      "Processing Record 18 of set 8 | Aketi\n",
      "city not found. Skipping ...\n",
      "Processing Record 19 of set 8 | Baiyin\n",
      "Processing Record 20 of set 8 | Kaitangata\n",
      "Processing Record 21 of set 8 | Shīeli\n",
      "Processing Record 22 of set 8 | Senneterre\n",
      "city not found. Skipping ...\n",
      "Processing Record 23 of set 8 | Mudanya\n",
      "Processing Record 24 of set 8 | Urusha\n",
      "Processing Record 25 of set 8 | Las Palmas\n",
      "city not found. Skipping ...\n",
      "Processing Record 26 of set 8 | Kidal\n",
      "Processing Record 27 of set 8 | Florina\n",
      "Processing Record 28 of set 8 | Torbat-e Jām\n",
      "Processing Record 29 of set 8 | Yumen\n",
      "Processing Record 30 of set 8 | Helong\n",
      "Processing Record 31 of set 8 | Saint-Joseph\n",
      "Processing Record 32 of set 8 | Tigil'\n",
      "Processing Record 33 of set 8 | Lorengau\n",
      "city not found. Skipping ...\n",
      "city not found. Skipping ...\n",
      "Processing Record 34 of set 8 | Bambous Virieux\n",
      "Processing Record 35 of set 8 | Yatou\n",
      "Processing Record 36 of set 8 | Rabaul\n",
      "Processing Record 37 of set 8 | Vila Franca do Campo\n",
      "Processing Record 38 of set 8 | Boyolangu\n",
      "Processing Record 39 of set 8 | Mayo\n",
      "city not found. Skipping ...\n",
      "Processing Record 40 of set 8 | Albion\n",
      "Processing Record 41 of set 8 | Colares\n",
      "Processing Record 42 of set 8 | Olafsvik\n",
      "Processing Record 43 of set 8 | Zdvinsk\n",
      "Processing Record 44 of set 8 | Magistral'nyy\n",
      "Processing Record 45 of set 8 | Tabas\n",
      "Processing Record 46 of set 8 | Kyritz\n",
      "city not found. Skipping ...\n",
      "Processing Record 47 of set 8 | Isla Vista\n",
      "Processing Record 48 of set 8 | Najrān\n",
      "Processing Record 49 of set 8 | Atbasar\n",
      "Processing Record 50 of set 8 | Saldanha\n",
      "Processing Record 0 of set 9 | Vila\n",
      "Processing Record 1 of set 9 | Meadow Lake\n",
      "Processing Record 2 of set 9 | Hokitika\n",
      "Processing Record 3 of set 9 | Faanui\n",
      "Processing Record 4 of set 9 | Arteaga\n",
      "Processing Record 5 of set 9 | Peleduy\n",
      "Processing Record 6 of set 9 | Zomin\n",
      "Processing Record 7 of set 9 | Nioro\n",
      "Processing Record 8 of set 9 | Rock Sound\n",
      "Processing Record 9 of set 9 | Itaperuna\n",
      "Processing Record 10 of set 9 | Lüderitz\n",
      "city not found. Skipping ...\n",
      "Processing Record 11 of set 9 | Hasaki\n",
      "Processing Record 12 of set 9 | Nur-Sultan\n",
      "Processing Record 13 of set 9 | Mascali\n",
      "Processing Record 14 of set 9 | Dehlorān\n",
      "Processing Record 15 of set 9 | Alta Floresta\n",
      "Processing Record 16 of set 9 | Lavrentiya\n",
      "Processing Record 17 of set 9 | Katobu\n",
      "Processing Record 18 of set 9 | Padang\n",
      "Processing Record 19 of set 9 | Kefamenanu\n",
      "Processing Record 20 of set 9 | Necochea\n",
      "Processing Record 21 of set 9 | Grenville\n",
      "Processing Record 22 of set 9 | Yurga\n",
      "Processing Record 23 of set 9 | Morgan City\n",
      "Processing Record 24 of set 9 | Apple Valley\n",
      "Processing Record 25 of set 9 | Vicuña\n",
      "Processing Record 26 of set 9 | Luhyny\n",
      "city not found. Skipping ...\n",
      "Processing Record 27 of set 9 | Port Hedland\n",
      "Processing Record 28 of set 9 | Leh\n",
      "Processing Record 29 of set 9 | Baoro\n",
      "Processing Record 30 of set 9 | Smithers\n",
      "Processing Record 31 of set 9 | Katsuura\n",
      "Processing Record 32 of set 9 | Zhigansk\n",
      "Processing Record 33 of set 9 | Gorontalo\n",
      "Processing Record 34 of set 9 | Baião\n",
      "Processing Record 35 of set 9 | Sechura\n",
      "Processing Record 36 of set 9 | Xinyu\n",
      "Processing Record 37 of set 9 | Barcelos\n",
      "Processing Record 38 of set 9 | Garoowe\n",
      "Processing Record 39 of set 9 | Mitchell\n",
      "Processing Record 40 of set 9 | East Moline\n",
      "Processing Record 41 of set 9 | Husavik\n",
      "city not found. Skipping ...\n",
      "city not found. Skipping ...\n",
      "Processing Record 42 of set 9 | Isangel\n",
      "Processing Record 43 of set 9 | Pandan\n",
      "Processing Record 44 of set 9 | Mgandu\n",
      "Processing Record 45 of set 9 | Rocha\n",
      "city not found. Skipping ...\n",
      "Processing Record 46 of set 9 | Skellefteå\n",
      "Processing Record 47 of set 9 | Keti Bandar\n",
      "Processing Record 48 of set 9 | Ulaangom\n",
      "Processing Record 49 of set 9 | Kavaratti\n",
      "Processing Record 50 of set 9 | Iki-Burul\n",
      "Processing Record 0 of set 10 | Quimper\n",
      "Processing Record 1 of set 10 | Pundaguitan\n",
      "Processing Record 2 of set 10 | Poum\n",
      "Processing Record 3 of set 10 | Likasi\n",
      "Processing Record 4 of set 10 | Ilulissat\n",
      "Processing Record 5 of set 10 | Chongwe\n",
      "Processing Record 6 of set 10 | Hurricane\n",
      "Processing Record 7 of set 10 | Iskateley\n",
      "Processing Record 8 of set 10 | Karaton\n",
      "Processing Record 9 of set 10 | Baykit\n",
      "Processing Record 10 of set 10 | Ekibastuz\n",
      "Processing Record 11 of set 10 | Quatre Cocos\n",
      "Processing Record 12 of set 10 | Palapye\n",
      "Processing Record 13 of set 10 | Uglovoye\n",
      "Processing Record 14 of set 10 | Gornyy\n",
      "Processing Record 15 of set 10 | Sherbakul'\n",
      "Processing Record 16 of set 10 | Āsosa\n",
      "city not found. Skipping ...\n",
      "Processing Record 17 of set 10 | Verkhnetulomskiy\n",
      "Processing Record 18 of set 10 | Diamantino\n",
      "Processing Record 19 of set 10 | Taixing\n",
      "Processing Record 20 of set 10 | Sayyan\n",
      "city not found. Skipping ...\n",
      "Processing Record 21 of set 10 | Honiara\n",
      "Processing Record 22 of set 10 | Uvarovka\n",
      "Processing Record 23 of set 10 | Oddur\n",
      "Processing Record 24 of set 10 | Puerto Colombia\n",
      "Processing Record 25 of set 10 | Kungurtug\n",
      "Processing Record 26 of set 10 | Calabozo\n",
      "Processing Record 27 of set 10 | Praia da Vitória\n",
      "city not found. Skipping ...\n",
      "Processing Record 28 of set 10 | São Félix do Xingu\n",
      "Processing Record 29 of set 10 | Kandara\n",
      "Processing Record 30 of set 10 | Mokhsogollokh\n",
      "Processing Record 31 of set 10 | Lichinga\n",
      "Processing Record 32 of set 10 | Port Moresby\n",
      "Processing Record 33 of set 10 | Oussouye\n",
      "Processing Record 34 of set 10 | Ganzhou\n",
      "Processing Record 35 of set 10 | Paka\n",
      "Processing Record 36 of set 10 | Khislavichi\n",
      "Processing Record 37 of set 10 | Chuguyevka\n",
      "Processing Record 38 of set 10 | Weyburn\n",
      "Processing Record 39 of set 10 | Chaves\n",
      "Processing Record 40 of set 10 | Flinders\n",
      "Processing Record 41 of set 10 | Kenai\n",
      "Processing Record 42 of set 10 | Shimoda\n",
      "Processing Record 43 of set 10 | Bichena\n",
      "Processing Record 44 of set 10 | Pleasant Point\n",
      "Processing Record 45 of set 10 | Nehe\n",
      "Processing Record 46 of set 10 | Nhulunbuy\n",
      "Processing Record 47 of set 10 | Ambilobe\n",
      "Processing Record 48 of set 10 | Harper\n",
      "Processing Record 49 of set 10 | Sangar\n",
      "Processing Record 50 of set 10 | Kiryat Gat\n",
      "Processing Record 0 of set 11 | Calama\n",
      "Processing Record 1 of set 11 | Araouane\n",
      "Processing Record 2 of set 11 | Kunyang\n",
      "Processing Record 3 of set 11 | Palu\n",
      "Processing Record 4 of set 11 | Sayanogorsk\n",
      "Processing Record 5 of set 11 | Aklavik\n",
      "Processing Record 6 of set 11 | Ghanaur\n",
      "Processing Record 7 of set 11 | Vestmannaeyjar\n",
      "Processing Record 8 of set 11 | Bantry\n",
      "Processing Record 9 of set 11 | Québec\n",
      "Processing Record 10 of set 11 | Finnsnes\n",
      "Processing Record 11 of set 11 | Bandar-e Anzali\n",
      "Processing Record 12 of set 11 | Mikhaylovka\n",
      "Processing Record 13 of set 11 | Ahipara\n",
      "Processing Record 14 of set 11 | Westport\n",
      "Processing Record 15 of set 11 | Hambantota\n",
      "Processing Record 16 of set 11 | Faya\n",
      "Processing Record 17 of set 11 | Charlestown\n",
      "Processing Record 18 of set 11 | Nyuksenitsa\n",
      "Processing Record 19 of set 11 | Inhambane\n",
      "Processing Record 20 of set 11 | Port Blair\n",
      "Processing Record 21 of set 11 | Benguela\n",
      "Processing Record 22 of set 11 | Lahaina\n",
      "Processing Record 23 of set 11 | Lata\n",
      "Processing Record 24 of set 11 | Ushtobe\n",
      "Processing Record 25 of set 11 | Shimanovsk\n",
      "Processing Record 26 of set 11 | Kaeo\n",
      "Processing Record 27 of set 11 | Mmabatho\n",
      "Processing Record 28 of set 11 | Santo Domingo\n",
      "Processing Record 29 of set 11 | Sennoy\n",
      "Processing Record 30 of set 11 | São João da Barra\n",
      "Processing Record 31 of set 11 | Tarbagatay\n",
      "Processing Record 32 of set 11 | Comodoro Rivadavia\n",
      "Processing Record 33 of set 11 | Predivinsk\n",
      "Processing Record 34 of set 11 | Guadalupe y Calvo\n",
      "Processing Record 35 of set 11 | Swan River\n",
      "Processing Record 36 of set 11 | Linxia Chengguanzhen\n",
      "Processing Record 37 of set 11 | Juelsminde\n",
      "Processing Record 38 of set 11 | Lompoc\n",
      "city not found. Skipping ...\n",
      "city not found. Skipping ...\n",
      "Processing Record 39 of set 11 | Kibala\n",
      "Processing Record 40 of set 11 | Hamilton\n",
      "Processing Record 41 of set 11 | Valparaíso\n",
      "Processing Record 42 of set 11 | Dobrić\n",
      "Processing Record 43 of set 11 | Neiafu\n",
      "Processing Record 44 of set 11 | Avera\n",
      "Processing Record 45 of set 11 | Mutare\n",
      "Processing Record 46 of set 11 | Show Low\n",
      "Processing Record 47 of set 11 | Lucapa\n",
      "Processing Record 48 of set 11 | Timóteo\n",
      "-------------------------------------\n",
      "Data Retrieval Complete\n"
     ]
    }
   ],
   "source": [
    "# set up empty lists for needed characters\n",
    "city_id = []\n",
    "city_name = []\n",
    "cloudiness = []\n",
    "country = []\n",
    "date = []\n",
    "humidity = []\n",
    "lat = []\n",
    "lng = []\n",
    "max_temp = []\n",
    "wind_speed = []\n",
    "processingRecord = 0\n",
    "setNumber = 1\n",
    "\n",
    "#start processing record at 1\n",
    "processingRecord = 1\n",
    "setNumber = 1\n",
    "\n",
    "print(\"Beginning Data Retrieval\")\n",
    "print(\"--------------------------------\")\n",
    "\n",
    "# loop through each city\n",
    "for city in cities:\n",
    "    \n",
    "#Exception handling\n",
    "    try:\n",
    "        response = requests.get(queryURL + city).json()\n",
    "        city_id.append(response['id'])\n",
    "        city_name.append(response['name']) \n",
    "        cloudiness.append(response['clouds']['all'])\n",
    "        country.append(response['sys']['country'])\n",
    "        date.append(response['dt'])\n",
    "        humidity.append(response['main']['humidity']) \n",
    "        lat.append(response['coord']['lat'])\n",
    "        lng.append(response['coord']['lon'])\n",
    "        max_temp.append(response['main']['temp_max']) \n",
    "        wind_speed.append(response['wind']['speed'])\n",
    "        cityResponse = response['name']   \n",
    "        if processingRecord > 49:\n",
    "            processingRecord = 0\n",
    "            setNumber +=1\n",
    "    \n",
    "        else:\n",
    "            processingRecord +=1\n",
    "\n",
    "        print(f\"Processing Record {processingRecord} of set {setNumber} | {cityResponse}\")\n",
    "        \n",
    "    except:\n",
    "        print(\"city not found. Skipping ...\")\n",
    "    continue\n",
    "    \n",
    "print(\"-------------------------------------\")\n",
    "print(\"Data Retrieval Complete\")"
   ]
  },
  {
   "cell_type": "markdown",
   "metadata": {},
   "source": [
    "### Convert Raw Data to DataFrame\n",
    "* Export the city data into a .csv.\n",
    "* Display the DataFrame"
   ]
  },
  {
   "cell_type": "code",
   "execution_count": 23,
   "metadata": {},
   "outputs": [
    {
     "data": {
      "text/html": [
       "<div>\n",
       "<style scoped>\n",
       "    .dataframe tbody tr th:only-of-type {\n",
       "        vertical-align: middle;\n",
       "    }\n",
       "\n",
       "    .dataframe tbody tr th {\n",
       "        vertical-align: top;\n",
       "    }\n",
       "\n",
       "    .dataframe thead th {\n",
       "        text-align: right;\n",
       "    }\n",
       "</style>\n",
       "<table border=\"1\" class=\"dataframe\">\n",
       "  <thead>\n",
       "    <tr style=\"text-align: right;\">\n",
       "      <th></th>\n",
       "      <th>City ID</th>\n",
       "      <th>City Name</th>\n",
       "      <th>Cloudiness</th>\n",
       "      <th>Country</th>\n",
       "      <th>Date</th>\n",
       "      <th>Humidity</th>\n",
       "      <th>Latitude</th>\n",
       "      <th>Longitude</th>\n",
       "      <th>Max Temperature</th>\n",
       "      <th>Wind Speed</th>\n",
       "    </tr>\n",
       "  </thead>\n",
       "  <tbody>\n",
       "    <tr>\n",
       "      <th>0</th>\n",
       "      <td>1489853</td>\n",
       "      <td>Tazovsky</td>\n",
       "      <td>9</td>\n",
       "      <td>RU</td>\n",
       "      <td>1658884078</td>\n",
       "      <td>78</td>\n",
       "      <td>67.4667</td>\n",
       "      <td>78.7000</td>\n",
       "      <td>49.87</td>\n",
       "      <td>7.14</td>\n",
       "    </tr>\n",
       "    <tr>\n",
       "      <th>1</th>\n",
       "      <td>897045</td>\n",
       "      <td>Solwezi</td>\n",
       "      <td>8</td>\n",
       "      <td>ZM</td>\n",
       "      <td>1658884079</td>\n",
       "      <td>61</td>\n",
       "      <td>-12.1688</td>\n",
       "      <td>26.3894</td>\n",
       "      <td>50.67</td>\n",
       "      <td>3.80</td>\n",
       "    </tr>\n",
       "    <tr>\n",
       "      <th>2</th>\n",
       "      <td>5870133</td>\n",
       "      <td>Nome</td>\n",
       "      <td>100</td>\n",
       "      <td>US</td>\n",
       "      <td>1658884079</td>\n",
       "      <td>71</td>\n",
       "      <td>64.5011</td>\n",
       "      <td>-165.4064</td>\n",
       "      <td>48.27</td>\n",
       "      <td>14.97</td>\n",
       "    </tr>\n",
       "    <tr>\n",
       "      <th>3</th>\n",
       "      <td>3466980</td>\n",
       "      <td>Caravelas</td>\n",
       "      <td>2</td>\n",
       "      <td>BR</td>\n",
       "      <td>1658883917</td>\n",
       "      <td>78</td>\n",
       "      <td>-17.7125</td>\n",
       "      <td>-39.2481</td>\n",
       "      <td>70.66</td>\n",
       "      <td>7.09</td>\n",
       "    </tr>\n",
       "    <tr>\n",
       "      <th>4</th>\n",
       "      <td>1028434</td>\n",
       "      <td>Quelimane</td>\n",
       "      <td>9</td>\n",
       "      <td>MZ</td>\n",
       "      <td>1658884079</td>\n",
       "      <td>81</td>\n",
       "      <td>-17.8786</td>\n",
       "      <td>36.8883</td>\n",
       "      <td>62.69</td>\n",
       "      <td>3.65</td>\n",
       "    </tr>\n",
       "  </tbody>\n",
       "</table>\n",
       "</div>"
      ],
      "text/plain": [
       "   City ID  City Name  Cloudiness Country        Date  Humidity  Latitude  \\\n",
       "0  1489853   Tazovsky           9      RU  1658884078        78   67.4667   \n",
       "1   897045    Solwezi           8      ZM  1658884079        61  -12.1688   \n",
       "2  5870133       Nome         100      US  1658884079        71   64.5011   \n",
       "3  3466980  Caravelas           2      BR  1658883917        78  -17.7125   \n",
       "4  1028434  Quelimane           9      MZ  1658884079        81  -17.8786   \n",
       "\n",
       "   Longitude  Max Temperature  Wind Speed  \n",
       "0    78.7000            49.87        7.14  \n",
       "1    26.3894            50.67        3.80  \n",
       "2  -165.4064            48.27       14.97  \n",
       "3   -39.2481            70.66        7.09  \n",
       "4    36.8883            62.69        3.65  "
      ]
     },
     "execution_count": 23,
     "metadata": {},
     "output_type": "execute_result"
    }
   ],
   "source": [
    "#Create a weather dictionary to display\n",
    "weatherDF = {\n",
    "    \"City ID\":city_id, \n",
    "    \"City Name\":city_name, \n",
    "    \"Cloudiness\":cloudiness,\n",
    "    \"Country\":country, \n",
    "    \"Date\":date, \n",
    "    \"Humidity\":humidity,\n",
    "    \"Latitude\":lat,\n",
    "    \"Longitude\":lng, \n",
    "    \"Max Temperature\":max_temp,\n",
    "    \"Wind Speed\":wind_speed\n",
    "}\n",
    "weatherDF = pd.DataFrame(weatherDF)\n",
    "weatherDF.head()"
   ]
  },
  {
   "cell_type": "code",
   "execution_count": 24,
   "metadata": {},
   "outputs": [],
   "source": [
    "# Save csv file.\n",
    "weatherDF.to_csv('weather_data.csv')"
   ]
  },
  {
   "cell_type": "code",
   "execution_count": 25,
   "metadata": {},
   "outputs": [
    {
     "data": {
      "text/plain": [
       "City ID            557\n",
       "City Name          557\n",
       "Cloudiness         557\n",
       "Country            557\n",
       "Date               557\n",
       "Humidity           557\n",
       "Latitude           557\n",
       "Longitude          557\n",
       "Max Temperature    557\n",
       "Wind Speed         557\n",
       "dtype: int64"
      ]
     },
     "execution_count": 25,
     "metadata": {},
     "output_type": "execute_result"
    }
   ],
   "source": [
    "weatherDF.count()"
   ]
  },
  {
   "cell_type": "code",
   "execution_count": null,
   "metadata": {},
   "outputs": [],
   "source": []
  },
  {
   "cell_type": "markdown",
   "metadata": {},
   "source": [
    "## Inspect the data and remove the cities where the humidity > 100%.\n",
    "----\n",
    "Skip this step if there are no cities that have humidity > 100%. "
   ]
  },
  {
   "cell_type": "code",
   "execution_count": 26,
   "metadata": {
    "scrolled": true
   },
   "outputs": [
    {
     "data": {
      "text/html": [
       "<div>\n",
       "<style scoped>\n",
       "    .dataframe tbody tr th:only-of-type {\n",
       "        vertical-align: middle;\n",
       "    }\n",
       "\n",
       "    .dataframe tbody tr th {\n",
       "        vertical-align: top;\n",
       "    }\n",
       "\n",
       "    .dataframe thead th {\n",
       "        text-align: right;\n",
       "    }\n",
       "</style>\n",
       "<table border=\"1\" class=\"dataframe\">\n",
       "  <thead>\n",
       "    <tr style=\"text-align: right;\">\n",
       "      <th></th>\n",
       "      <th>City ID</th>\n",
       "      <th>Cloudiness</th>\n",
       "      <th>Date</th>\n",
       "      <th>Humidity</th>\n",
       "      <th>Latitude</th>\n",
       "      <th>Longitude</th>\n",
       "      <th>Max Temperature</th>\n",
       "      <th>Wind Speed</th>\n",
       "    </tr>\n",
       "  </thead>\n",
       "  <tbody>\n",
       "    <tr>\n",
       "      <th>count</th>\n",
       "      <td>5.530000e+02</td>\n",
       "      <td>553.000000</td>\n",
       "      <td>5.530000e+02</td>\n",
       "      <td>553.000000</td>\n",
       "      <td>553.000000</td>\n",
       "      <td>553.000000</td>\n",
       "      <td>553.000000</td>\n",
       "      <td>553.00000</td>\n",
       "    </tr>\n",
       "    <tr>\n",
       "      <th>mean</th>\n",
       "      <td>2.643459e+06</td>\n",
       "      <td>54.694394</td>\n",
       "      <td>1.658884e+09</td>\n",
       "      <td>72.408680</td>\n",
       "      <td>20.981017</td>\n",
       "      <td>22.715298</td>\n",
       "      <td>68.813363</td>\n",
       "      <td>7.43340</td>\n",
       "    </tr>\n",
       "    <tr>\n",
       "      <th>std</th>\n",
       "      <td>1.646191e+06</td>\n",
       "      <td>41.585109</td>\n",
       "      <td>8.660093e+01</td>\n",
       "      <td>19.419083</td>\n",
       "      <td>33.374775</td>\n",
       "      <td>90.976799</td>\n",
       "      <td>13.262703</td>\n",
       "      <td>4.93959</td>\n",
       "    </tr>\n",
       "    <tr>\n",
       "      <th>min</th>\n",
       "      <td>9.874000e+03</td>\n",
       "      <td>0.000000</td>\n",
       "      <td>1.658884e+09</td>\n",
       "      <td>9.000000</td>\n",
       "      <td>-54.800000</td>\n",
       "      <td>-179.166700</td>\n",
       "      <td>24.940000</td>\n",
       "      <td>0.00000</td>\n",
       "    </tr>\n",
       "    <tr>\n",
       "      <th>25%</th>\n",
       "      <td>1.517637e+06</td>\n",
       "      <td>8.000000</td>\n",
       "      <td>1.658884e+09</td>\n",
       "      <td>62.000000</td>\n",
       "      <td>-6.884400</td>\n",
       "      <td>-56.446100</td>\n",
       "      <td>58.910000</td>\n",
       "      <td>3.80000</td>\n",
       "    </tr>\n",
       "    <tr>\n",
       "      <th>50%</th>\n",
       "      <td>2.156643e+06</td>\n",
       "      <td>63.000000</td>\n",
       "      <td>1.658884e+09</td>\n",
       "      <td>77.000000</td>\n",
       "      <td>27.257400</td>\n",
       "      <td>29.894300</td>\n",
       "      <td>69.260000</td>\n",
       "      <td>6.02000</td>\n",
       "    </tr>\n",
       "    <tr>\n",
       "      <th>75%</th>\n",
       "      <td>3.567995e+06</td>\n",
       "      <td>100.000000</td>\n",
       "      <td>1.658884e+09</td>\n",
       "      <td>87.000000</td>\n",
       "      <td>48.649900</td>\n",
       "      <td>105.306700</td>\n",
       "      <td>79.020000</td>\n",
       "      <td>10.33000</td>\n",
       "    </tr>\n",
       "    <tr>\n",
       "      <th>max</th>\n",
       "      <td>8.079926e+06</td>\n",
       "      <td>100.000000</td>\n",
       "      <td>1.658884e+09</td>\n",
       "      <td>99.000000</td>\n",
       "      <td>78.218600</td>\n",
       "      <td>179.316700</td>\n",
       "      <td>103.930000</td>\n",
       "      <td>27.76000</td>\n",
       "    </tr>\n",
       "  </tbody>\n",
       "</table>\n",
       "</div>"
      ],
      "text/plain": [
       "            City ID  Cloudiness          Date    Humidity    Latitude  \\\n",
       "count  5.530000e+02  553.000000  5.530000e+02  553.000000  553.000000   \n",
       "mean   2.643459e+06   54.694394  1.658884e+09   72.408680   20.981017   \n",
       "std    1.646191e+06   41.585109  8.660093e+01   19.419083   33.374775   \n",
       "min    9.874000e+03    0.000000  1.658884e+09    9.000000  -54.800000   \n",
       "25%    1.517637e+06    8.000000  1.658884e+09   62.000000   -6.884400   \n",
       "50%    2.156643e+06   63.000000  1.658884e+09   77.000000   27.257400   \n",
       "75%    3.567995e+06  100.000000  1.658884e+09   87.000000   48.649900   \n",
       "max    8.079926e+06  100.000000  1.658884e+09   99.000000   78.218600   \n",
       "\n",
       "        Longitude  Max Temperature  Wind Speed  \n",
       "count  553.000000       553.000000   553.00000  \n",
       "mean    22.715298        68.813363     7.43340  \n",
       "std     90.976799        13.262703     4.93959  \n",
       "min   -179.166700        24.940000     0.00000  \n",
       "25%    -56.446100        58.910000     3.80000  \n",
       "50%     29.894300        69.260000     6.02000  \n",
       "75%    105.306700        79.020000    10.33000  \n",
       "max    179.316700       103.930000    27.76000  "
      ]
     },
     "execution_count": 26,
     "metadata": {},
     "output_type": "execute_result"
    }
   ],
   "source": [
    "maxHumid = weatherDict.loc[weatherDict['Humidity'] != 100]\n",
    "maxHumid.describe()"
   ]
  },
  {
   "cell_type": "markdown",
   "metadata": {},
   "source": [
    "## Plotting the Data\n",
    "* Use proper labeling of the plots using plot titles (including date of analysis) and axes labels.\n",
    "* Save the plotted figures as .pngs."
   ]
  },
  {
   "cell_type": "markdown",
   "metadata": {},
   "source": [
    "## Latitude vs. Temperature Plot"
   ]
  },
  {
   "cell_type": "code",
   "execution_count": 33,
   "metadata": {
    "scrolled": true
   },
   "outputs": [
    {
     "data": {
      "image/png": "[encoded data removed]",
      "text/plain": [
       "<Figure size 432x288 with 1 Axes>"
      ]
     },
     "metadata": {
      "needs_background": "light"
     },
     "output_type": "display_data"
    }
   ],
   "source": [
    "# Create scatter plot for Lat vs Temperature.\n",
    "plt.scatter(maxHumid[\"Latitude\"], maxHumid[\"Max Temperature\"])\n",
    "\n",
    "#Format\n",
    "plt.title(\"City Latitude vs Max Temperature (7/26/22)\")\n",
    "plt.xlabel(\"Latitude\")\n",
    "plt.ylabel(\"Max Temperature (F)\")\n",
    "plt.grid()\n",
    "\n",
    "#save\n",
    "plt.savefig(\"Images/temperature.png\")\n",
    "plt.show()"
   ]
  },
  {
   "cell_type": "markdown",
   "metadata": {},
   "source": [
    "The code is analyzing the max temperature based on a city's latitude."
   ]
  },
  {
   "cell_type": "markdown",
   "metadata": {},
   "source": [
    "## Latitude vs. Humidity Plot"
   ]
  },
  {
   "cell_type": "code",
   "execution_count": 34,
   "metadata": {
    "scrolled": true
   },
   "outputs": [
    {
     "data": {
      "image/png": "[encoded data removed]",
      "text/plain": [
       "<Figure size 432x288 with 1 Axes>"
      ]
     },
     "metadata": {
      "needs_background": "light"
     },
     "output_type": "display_data"
    }
   ],
   "source": [
    "# Create scatter plot for Lat vs Humidity.\n",
    "plt.scatter(maxHumid[\"Latitude\"], maxHumid[\"Humidity\"])\n",
    "\n",
    "# Format axis and labels.\n",
    "\n",
    "plt.title(\"City Latitude vs Humidity (7/26/22)\")\n",
    "plt.xlabel(\"Latitude\")\n",
    "plt.ylabel(\"Humidity (%)\")\n",
    "plt.grid()\n",
    "\n",
    "\n",
    "# Save the figure.\n",
    "plt.savefig(\"Images/humidity.png\")\n",
    "plt.show()"
   ]
  },
  {
   "cell_type": "markdown",
   "metadata": {},
   "source": [
    "The code is analyzing the humidity percentage based on a city's latitude."
   ]
  },
  {
   "cell_type": "markdown",
   "metadata": {},
   "source": [
    "## Latitude vs. Cloudiness Plot"
   ]
  },
  {
   "cell_type": "code",
   "execution_count": 35,
   "metadata": {},
   "outputs": [
    {
     "data": {
      "image/png": "[encoded data removed]",
      "text/plain": [
       "<Figure size 432x288 with 1 Axes>"
      ]
     },
     "metadata": {
      "needs_background": "light"
     },
     "output_type": "display_data"
    }
   ],
   "source": [
    "# Create scatter plot for Lat vs Humidity.\n",
    "plt.scatter(maxHumid[\"Latitude\"], maxHumid[\"Cloudiness\"])\n",
    "\n",
    "# Format axis and labels.\n",
    "\n",
    "plt.title(\"City Latitude vs Cloudiness (7/26/22)\")\n",
    "plt.xlabel(\"Latitude\")\n",
    "plt.ylabel(\"Cloudiness (%)\")\n",
    "plt.grid()\n",
    "\n",
    "\n",
    "# Save the figure.\n",
    "plt.savefig(\"Images/Cloudiness.png\")\n",
    "plt.show()"
   ]
  },
  {
   "cell_type": "markdown",
   "metadata": {},
   "source": [
    "The code is analyzing the cloudiness based on a city's latitude."
   ]
  },
  {
   "cell_type": "markdown",
   "metadata": {},
   "source": [
    "## Latitude vs. Wind Speed Plot"
   ]
  },
  {
   "cell_type": "code",
   "execution_count": 36,
   "metadata": {},
   "outputs": [
    {
     "data": {
      "image/png": "[encoded data removed]",
      "text/plain": [
       "<Figure size 432x288 with 1 Axes>"
      ]
     },
     "metadata": {
      "needs_background": "light"
     },
     "output_type": "display_data"
    }
   ],
   "source": [
    "# Create scatter plot for Lat vs Humidity.\n",
    "plt.scatter(maxHumid[\"Latitude\"], maxHumid[\"Wind Speed\"])\n",
    "\n",
    "# Format axis and labels.\n",
    "\n",
    "plt.title(\"City Latitude vs Wind Speed (7/26/22)\")\n",
    "plt.xlabel(\"Latitude\")\n",
    "plt.ylabel(\"Wind Speed (%)\")\n",
    "plt.grid()\n",
    "\n",
    "\n",
    "# Save the figure.\n",
    "plt.savefig(\"Images/Wind Speed.png\")\n",
    "plt.show()"
   ]
  },
  {
   "cell_type": "markdown",
   "metadata": {},
   "source": [
    "The code is analyzing the wind speed percentage based on a city's latitude."
   ]
  },
  {
   "cell_type": "markdown",
   "metadata": {},
   "source": [
    "## Linear Regression"
   ]
  },
  {
   "cell_type": "code",
   "execution_count": 37,
   "metadata": {},
   "outputs": [],
   "source": [
    "#identify northern and southern hemispheres\n",
    "north = maxHumid['Latitude'] >= 0\n",
    "northernHem = maxHumid[north]\n",
    "southernHem = maxHumid[~north]"
   ]
  },
  {
   "cell_type": "markdown",
   "metadata": {},
   "source": [
    "####  Northern Hemisphere - Max Temp vs. Latitude Linear Regression"
   ]
  },
  {
   "cell_type": "code",
   "execution_count": 68,
   "metadata": {},
   "outputs": [
    {
     "name": "stdout",
     "output_type": "stream",
     "text": [
      "The r-value is 0.41827245098170013\n"
     ]
    },
    {
     "data": {
      "image/png": "[encoded data removed]",
      "text/plain": [
       "<Figure size 432x288 with 1 Axes>"
      ]
     },
     "metadata": {
      "needs_background": "light"
     },
     "output_type": "display_data"
    }
   ],
   "source": [
    "#set variables\n",
    "x_values = northernHem['Latitude']\n",
    "y_values = northernHem['Max Temperature']\n",
    "(slope, intercept, rvalue, pvalue, stderr) = linregress(x_values, y_values)\n",
    "regress_values = x_values * slope + intercept\n",
    "line_eq = \"y = \" + str(round(slope,2)) + \"x + \" + str(round(intercept,2))\n",
    "\n",
    "#format\n",
    "plt.scatter(x_values,y_values)\n",
    "plt.plot(x_values,regress_values,\"r-\")\n",
    "plt.xlabel('Latitude')\n",
    "plt.ylabel('Max Temp')\n",
    "print(f\"The r-value is {rvalue**2}\")\n",
    "plt.annotate(line_eq,(5,45),fontsize=15,color=\"red\")\n",
    "\n",
    "#save figure\n",
    "plt.savefig(\"Images/northTempTrend.png\")\n",
    "plt.show()"
   ]
  },
  {
   "cell_type": "markdown",
   "metadata": {},
   "source": [
    "####  Southern Hemisphere - Max Temp vs. Latitude Linear Regression"
   ]
  },
  {
   "cell_type": "code",
   "execution_count": 69,
   "metadata": {},
   "outputs": [
    {
     "name": "stdout",
     "output_type": "stream",
     "text": [
      "The r-value is 0.6151278918653421\n"
     ]
    },
    {
     "data": {
      "image/png": "[encoded data removed]",
      "text/plain": [
       "<Figure size 432x288 with 1 Axes>"
      ]
     },
     "metadata": {
      "needs_background": "light"
     },
     "output_type": "display_data"
    }
   ],
   "source": [
    "#set variables\n",
    "x_values = southernHem['Latitude']\n",
    "y_values = southernHem['Max Temperature']\n",
    "(slope, intercept, rvalue, pvalue, stderr) = linregress(x_values, y_values)\n",
    "regress_values = x_values * slope + intercept\n",
    "line_eq = \"y = \" + str(round(slope,2)) + \"x + \" + str(round(intercept,2))\n",
    "\n",
    "#format\n",
    "plt.scatter(x_values,y_values)\n",
    "plt.plot(x_values,regress_values,\"r-\")\n",
    "plt.xlabel('Latitude')\n",
    "plt.ylabel('Max Temp')\n",
    "print(f\"The r-value is {rvalue**2}\")\n",
    "plt.annotate(line_eq,(-45,80),fontsize=15,color=\"red\")\n",
    "\n",
    "#save\n",
    "plt.savefig(\"Images/southTempTrend.png\")\n",
    "plt.show()"
   ]
  },
  {
   "cell_type": "markdown",
   "metadata": {},
   "source": [
    "With the help of the linear regression tool, you can see that in the Northern Hemisphere, the higher the Latitude the lower the max temp. And in the Southern Hemisphere, it is the exact opposite."
   ]
  },
  {
   "cell_type": "markdown",
   "metadata": {},
   "source": [
    "####  Northern Hemisphere - Humidity (%) vs. Latitude Linear Regression"
   ]
  },
  {
   "cell_type": "code",
   "execution_count": 70,
   "metadata": {},
   "outputs": [
    {
     "name": "stdout",
     "output_type": "stream",
     "text": [
      "The r-value is 0.005246018943111371\n"
     ]
    },
    {
     "data": {
      "image/png": "[encoded data removed]",
      "text/plain": [
       "<Figure size 432x288 with 1 Axes>"
      ]
     },
     "metadata": {
      "needs_background": "light"
     },
     "output_type": "display_data"
    }
   ],
   "source": [
    "#set variables\n",
    "x_values = northernHem['Latitude']\n",
    "y_values = northernHem['Humidity']\n",
    "(slope, intercept, rvalue, pvalue, stderr) = linregress(x_values, y_values)\n",
    "regress_values = x_values * slope + intercept\n",
    "line_eq = \"y = \" + str(round(slope,2)) + \"x + \" + str(round(intercept,2))\n",
    "\n",
    "#format\n",
    "plt.scatter(x_values,y_values)\n",
    "plt.plot(x_values,regress_values,\"r-\")\n",
    "plt.xlabel('Latitude')\n",
    "plt.ylabel('Humidity')\n",
    "print(f\"The r-value is {rvalue**2}\")\n",
    "\n",
    "#save\n",
    "plt.annotate(line_eq,(45,25),fontsize=15,color=\"red\")\n",
    "plt.savefig(\"Images/northHumidTrend.png\")\n",
    "plt.show()"
   ]
  },
  {
   "cell_type": "markdown",
   "metadata": {},
   "source": [
    "####  Southern Hemisphere - Humidity (%) vs. Latitude Linear Regression"
   ]
  },
  {
   "cell_type": "code",
   "execution_count": 71,
   "metadata": {},
   "outputs": [
    {
     "name": "stdout",
     "output_type": "stream",
     "text": [
      "The r-value is 0.04055196730719259\n"
     ]
    },
    {
     "data": {
      "image/png": "[encoded data removed]",
      "text/plain": [
       "<Figure size 432x288 with 1 Axes>"
      ]
     },
     "metadata": {
      "needs_background": "light"
     },
     "output_type": "display_data"
    }
   ],
   "source": [
    "#set variables\n",
    "x_values = southernHem['Latitude']\n",
    "y_values = southernHem['Humidity']\n",
    "(slope, intercept, rvalue, pvalue, stderr) = linregress(x_values, y_values)\n",
    "regress_values = x_values * slope + intercept\n",
    "line_eq = \"y = \" + str(round(slope,2)) + \"x + \" + str(round(intercept,2))\n",
    "\n",
    "#format\n",
    "plt.scatter(x_values,y_values)\n",
    "plt.plot(x_values,regress_values,\"r-\")\n",
    "plt.xlabel('Latitude')\n",
    "plt.ylabel('Humidity')\n",
    "print(f\"The r-value is {rvalue**2}\")\n",
    "plt.annotate(line_eq,(-55,30),fontsize=15,color=\"red\")\n",
    "\n",
    "#save\n",
    "plt.savefig(\"Images/southHumidTrend.png\")\n",
    "plt.show()"
   ]
  },
  {
   "cell_type": "markdown",
   "metadata": {},
   "source": [
    "Between these two graphs, you can see that in the Northern Hemisphere the hgiher the Latitude, the lower the Humidity is. But, again, we can see here for the Southern Hemisphere it is the exact opposite."
   ]
  },
  {
   "cell_type": "markdown",
   "metadata": {},
   "source": [
    "####  Northern Hemisphere - Cloudiness (%) vs. Latitude Linear Regression"
   ]
  },
  {
   "cell_type": "code",
   "execution_count": 72,
   "metadata": {},
   "outputs": [
    {
     "name": "stdout",
     "output_type": "stream",
     "text": [
      "The r-value is 2.1124393510470777e-05\n"
     ]
    },
    {
     "data": {
      "image/png": "[encoded data removed]",
      "text/plain": [
       "<Figure size 432x288 with 1 Axes>"
      ]
     },
     "metadata": {
      "needs_background": "light"
     },
     "output_type": "display_data"
    }
   ],
   "source": [
    "#set variables\n",
    "x_values = northernHem['Latitude']\n",
    "y_values = northernHem['Cloudiness']\n",
    "(slope, intercept, rvalue, pvalue, stderr) = linregress(x_values, y_values)\n",
    "regress_values = x_values * slope + intercept\n",
    "line_eq = \"y = \" + str(round(slope,2)) + \"x + \" + str(round(intercept,2))\n",
    "\n",
    "#format\n",
    "plt.scatter(x_values,y_values)\n",
    "plt.plot(x_values,regress_values,\"r-\")\n",
    "plt.xlabel('Latitude')\n",
    "plt.ylabel('Cloudiness')\n",
    "print(f\"The r-value is {rvalue**2}\")\n",
    "plt.annotate(line_eq,(50,45),fontsize=15,color=\"red\")\n",
    "\n",
    "#save\n",
    "plt.savefig(\"Images/northCloudTrend.png\")\n",
    "plt.show()"
   ]
  },
  {
   "cell_type": "markdown",
   "metadata": {},
   "source": [
    "####  Southern Hemisphere - Cloudiness (%) vs. Latitude Linear Regression"
   ]
  },
  {
   "cell_type": "code",
   "execution_count": 73,
   "metadata": {},
   "outputs": [
    {
     "name": "stdout",
     "output_type": "stream",
     "text": [
      "The r-value is 0.0029107425748462743\n"
     ]
    },
    {
     "data": {
      "image/png": "[encoded data removed]",
      "text/plain": [
       "<Figure size 432x288 with 1 Axes>"
      ]
     },
     "metadata": {
      "needs_background": "light"
     },
     "output_type": "display_data"
    }
   ],
   "source": [
    "#set variables\n",
    "x_values = southernHem['Latitude']\n",
    "y_values = southernHem['Cloudiness']\n",
    "(slope, intercept, rvalue, pvalue, stderr) = linregress(x_values, y_values)\n",
    "regress_values = x_values * slope + intercept\n",
    "line_eq = \"y = \" + str(round(slope,2)) + \"x + \" + str(round(intercept,2))\n",
    "\n",
    "#format\n",
    "plt.scatter(x_values,y_values)\n",
    "plt.plot(x_values,regress_values,\"r-\")\n",
    "plt.xlabel('Latitude')\n",
    "plt.ylabel('Cloudiness')\n",
    "print(f\"The r-value is {rvalue**2}\")\n",
    "plt.annotate(line_eq,(-56,56),fontsize=15,color=\"red\")\n",
    "\n",
    "#save\n",
    "plt.savefig(\"Images/southCloudTrend.png\")\n",
    "plt.show()"
   ]
  },
  {
   "cell_type": "markdown",
   "metadata": {},
   "source": [
    "Between these two figures, we can see that while cloudiness is pretty steady amongst the Northern Hemisphere, there is a slight increase in cloudiness in the Southern Hemisphere as the latitude degresses."
   ]
  },
  {
   "cell_type": "markdown",
   "metadata": {},
   "source": [
    "####  Northern Hemisphere - Wind Speed (mph) vs. Latitude Linear Regression"
   ]
  },
  {
   "cell_type": "code",
   "execution_count": 74,
   "metadata": {},
   "outputs": [
    {
     "name": "stdout",
     "output_type": "stream",
     "text": [
      "The r-value is 0.0024960883805614604\n"
     ]
    },
    {
     "data": {
      "image/png": "[encoded data removed]",
      "text/plain": [
       "<Figure size 432x288 with 1 Axes>"
      ]
     },
     "metadata": {
      "needs_background": "light"
     },
     "output_type": "display_data"
    }
   ],
   "source": [
    "#set variables\n",
    "x_values = northernHem['Latitude']\n",
    "y_values = northernHem['Wind Speed']\n",
    "(slope, intercept, rvalue, pvalue, stderr) = linregress(x_values, y_values)\n",
    "regress_values = x_values * slope + intercept\n",
    "line_eq = \"y = \" + str(round(slope,2)) + \"x + \" + str(round(intercept,2))\n",
    "\n",
    "#format\n",
    "plt.scatter(x_values,y_values)\n",
    "plt.plot(x_values,regress_values,\"r-\")\n",
    "plt.xlabel('Latitude')\n",
    "plt.ylabel('Wind Speed')\n",
    "print(f\"The r-value is {rvalue**2}\")\n",
    "plt.annotate(line_eq,(30,27),fontsize=15,color=\"red\")\n",
    "\n",
    "#save\n",
    "plt.savefig(\"Images/northWindTrend.png\")\n",
    "plt.show()"
   ]
  },
  {
   "cell_type": "markdown",
   "metadata": {},
   "source": [
    "####  Southern Hemisphere - Wind Speed (mph) vs. Latitude Linear Regression"
   ]
  },
  {
   "cell_type": "code",
   "execution_count": 75,
   "metadata": {},
   "outputs": [
    {
     "name": "stdout",
     "output_type": "stream",
     "text": [
      "The r-value is 0.016085936089165035\n"
     ]
    },
    {
     "data": {
      "image/png": "[encoded data removed]",
      "text/plain": [
       "<Figure size 432x288 with 1 Axes>"
      ]
     },
     "metadata": {
      "needs_background": "light"
     },
     "output_type": "display_data"
    }
   ],
   "source": [
    "#set variables\n",
    "x_values = southernHem['Latitude']\n",
    "y_values = southernHem['Wind Speed']\n",
    "(slope, intercept, rvalue, pvalue, stderr) = linregress(x_values, y_values)\n",
    "regress_values = x_values * slope + intercept\n",
    "line_eq = \"y = \" + str(round(slope,2)) + \"x + \" + str(round(intercept,2))\n",
    "\n",
    "#format\n",
    "plt.scatter(x_values,y_values)\n",
    "plt.plot(x_values,regress_values,\"r-\")\n",
    "plt.xlabel('Latitude')\n",
    "plt.ylabel('Wind Speed')\n",
    "print(f\"The r-value is {rvalue**2}\")\n",
    "plt.annotate(line_eq,(-35,17),fontsize=15,color=\"red\")\n",
    "\n",
    "#save\n",
    "plt.savefig(\"Images/southWindTrend.png\")\n",
    "plt.show()"
   ]
  },
  {
   "cell_type": "markdown",
   "metadata": {},
   "source": [
    "Lastly, you can see here that in the Northern Hemisphere as latitude increases so does the WInd Speed. The SOuthern Hemisphere reflects the opposite, which is to be expected based on previous data trends."
   ]
  }
 ],
 "metadata": {
  "anaconda-cloud": {},
  "kernel_info": {
   "name": "python3"
  },
  "kernelspec": {
   "display_name": "Python 3 (ipykernel)",
   "language": "python",
   "name": "python3"
  },
  "language_info": {
   "codemirror_mode": {
    "name": "ipython",
    "version": 3
   },
   "file_extension": ".py",
   "mimetype": "text/x-python",
   "name": "python",
   "nbconvert_exporter": "python",
   "pygments_lexer": "ipython3",
   "version": "3.9.12"
  },
  "latex_envs": {
   "LaTeX_envs_menu_present": true,
   "autoclose": false,
   "autocomplete": true,
   "bibliofile": "biblio.bib",
   "cite_by": "apalike",
   "current_citInitial": 1,
   "eqLabelWithNumbers": true,
   "eqNumInitial": 1,
   "hotkeys": {
    "equation": "Ctrl-E",
    "itemize": "Ctrl-I"
   },
   "labels_anchors": false,
   "latex_user_defs": false,
   "report_style_numbering": false,
   "user_envs_cfg": false
  },
  "nteract": {
   "version": "0.12.3"
  }
 },
 "nbformat": 4,
 "nbformat_minor": 2
}
